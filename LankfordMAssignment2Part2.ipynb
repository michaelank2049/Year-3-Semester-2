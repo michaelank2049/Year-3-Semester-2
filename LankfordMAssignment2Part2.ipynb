{
 "cells": [
  {
   "cell_type": "code",
   "execution_count": 50,
   "id": "74054f53",
   "metadata": {},
   "outputs": [
    {
     "name": "stdout",
     "output_type": "stream",
     "text": [
      "train set size: 120 , test set size: 30\n",
      "\n",
      "For the training set:\n",
      "\n",
      "The error is:  40.0 %\n",
      "The best weight is:  [10.099999999998005, 4.500000000000094]\n",
      "The accuracy is:  60.0 %\n",
      "\n",
      "\n",
      "For the test set:\n",
      "\n",
      "The error is:  66.66666666666666 %\n",
      "The best weight is:  [-1.8999999999985597, 37.19999999999945]\n",
      "The accuracy is:  33.33333333333333 %\n"
     ]
    }
   ],
   "source": [
    "from sklearn.model_selection import train_test_split\n",
    "\n",
    "input = [(5.1,3.5,-1),(4.9,3.0,1),(4.7,3.2,1),(4.6,3.1,-1),(5.0,3.6,1),(5.4,3.9,1),(4.6,3.4,-1),(5.0,3.4,1),(4.4,2.9,1),\n",
    "         (4.9,3.1,1),(5.4,3.7,-1),(4.8,3.4,1),(4.8,3.0,-1),(4.3,3.0,1),(5.8,4.0,1),(5.7,4.4,1),(5.4,3.9,1),(5.1,3.5,-1),\n",
    "         (5.7,3.8,1),(5.1,3.8,-1),(5.4,3.4,1),(5.1,3.7,-1),(4.6,3.6,1),(5.1,3.3,1),(4.8,3.4,-1),(5.0,3.0,1),(5.0,3.4,1),\n",
    "         (5.2,3.5,-1),(5.2,3.4,-1),(4.7,3.2,1),(4.8,3.1,-1),(5.4,3.4,1),(5.2,4.1,1),(5.5,4.2,1),(4.9,3.1,1),(5.0,3.2,1),\n",
    "         (5.5,3.5,1),(4.9,3.1,-1),(4.4,3.0,1),(5.1,3.4,1),(5.0,3.5,1),(4.5,2.3,1),(4.4,3.2,-1),(5.0,3.5,1),(5.1,3.8,-1),\n",
    "         (4.8,3.0,1),(5.1,3.8,1),(4.6,3.2,1),(5.3,3.7,-1),(5.0,3.3,-1),(7.0,3.2,1),(6.4,3.2,1),(6.9,3.1,1),(5.5,2.3,-1),\n",
    "         (6.5,2.8,-1),(5.7,2.8,1),(6.3,3.3,1),(4.9,2.4,-1),(6.6,2.9,1),(5.2,2.7,-1),(5.0,2.0,1),(5.9,3.0,1),(6.0,2.2,1),\n",
    "         (6.1,2.9,1),(5.6,2.9,-1),(6.7,3.1,-1),(5.6,3.0,1),(5.8,2.7,1),(6.2,2.2,1),(5.6,2.5,-1),(5.9,3.2,1),(6.1,2.8,1),\n",
    "         (6.3,2.5,1),(6.1,2.8,1),(6.4,2.9,-1),(6.6,3.0,1),(6.8,2.8,-1),(6.7,3.0,-1),(6.0,2.9,1),(5.7,2.6,1),(5.5,2.4,1),\n",
    "         (5.5,2.4,-1),(5.8,2.7,1),(6.0,2.7,1),(5.4,3.0,-1),(6.0,3.4,1),(6.7,3.1,1),(6.3,2.3,1),(5.6,3.0,-1),(5.5,2.5,1),\n",
    "         (5.5,2.6,-1),(6.1,3.0,1),(5.8,2.6,-1),(5.0,2.3,1),(5.6,2.7,1),(5.7,3.0,-1),(5.7,2.9,1),(6.2,2.9,1),(5.1,2.5,1),\n",
    "         (5.7,2.8,-1),(6.3,3.3,1),(5.8,2.7,-1),(7.1,3.0,1),(6.3,2.9,-1),(6.5,3.0,1),(7.6,3.0,1),(4.9,2.5,1),(7.3,2.9,1),\n",
    "         (6.7,2.5,1),(7.2,3.6,1),(6.5,3.2,1),(6.4,2.7,1),(6.8,3.0,1),(5.7,2.5,-1),(5.8,2.8,1),(6.4,3.2,-1),(6.5,3.0,-1),\n",
    "         (7.7,3.8,1),(7.7,2.6,-1),(6.0,2.2,1),(6.9,3.2,1),(5.6,2.8,1),(7.7,2.8,1),(6.3,2.7,-1),(6.7,3.3,-1),(7.2,3.2,1),\n",
    "         (6.2,2.8,1),(6.1,3.0,1),(6.4,2.8,-1),(7.2,3.0,1),(7.4,2.8,1),(7.9,3.8,1),(6.4,2.8,-1),(6.3,2.8,-1),(6.1,2.6,1),\n",
    "         (7.7,3.0,1),(6.3,3.4,-1),(6.4,3.1,-1),(6.0,3.0,1),(6.9,3.1,1),(6.7,3.1,1),(6.9,3.1,1),(5.8,2.7,1),(6.8,3.2,-1),\n",
    "         (6.7,3.3,-1),(6.7,3.0,1),(6.3,2.5,-1),(6.5,3.0,1),(6.2,3.4,1),(5.9,3.0,1)]\n",
    "\n",
    "def pocketAlgorithm(input):\n",
    "\n",
    "    threshold = 0        # Variable declarations\n",
    "    weights = [0,0]\n",
    "    y = 0\n",
    "    bias = 1\n",
    "    maxIterator = 1000\n",
    "    error = 0\n",
    "    bestWeight = []\n",
    " \n",
    "    for iterator in range(maxIterator):\n",
    "        misclass = 0\n",
    "        hits = 0\n",
    "        bestError = 0\n",
    "    \n",
    "        for i in range(0, len(input)):        # Iterates through the array\n",
    "            weightedSum = 0\n",
    "        \n",
    "            for j in range(0,len(input[i])-1):        # Calculates weightedSum by iterating through the array\n",
    "                weightedSum += input[i][j] * weights[j]\n",
    "            \n",
    "            output = bias + weightedSum\n",
    "     \n",
    "            if output > threshold:        # Assigns y value to find if a point is misclassified\n",
    "                y = 1\n",
    "            else:\n",
    "                y = -1\n",
    "        \n",
    "            if y != input[i][2]:        # Determines if a point is misclassified \n",
    "                misclass += 1\n",
    "            \n",
    "                for j in range(0, len(weights)):\n",
    "                    weights[j] += (input[i][2] * input[i][j])\n",
    "                    \n",
    "                bias += input[i][2]\n",
    "            \n",
    "            else:\n",
    "                hits = hits + 1\n",
    "            \n",
    "        error = (misclass / len(input)) * 100    # Calculates the error\n",
    "\n",
    "        if iterator == 0:    # If the iteration has run once, assign the correct values for the first time\n",
    "            bestError = error\n",
    "            bestWeight = weights\n",
    "        \n",
    "        else:\n",
    "            if error < bestError:    # If new error < bestError then assign new error to best error and assign other values\n",
    "                bestError = error\n",
    "                bestWeight = weights\n",
    "                \n",
    "        if iterator == 999:    # Prints the error at the last iteration\n",
    "            print(\"The error is: \", error, \"%\")    \n",
    "        \n",
    "    print(\"The best weight is: \", bestWeight)    # Print necessary values\n",
    "    print(\"The accuracy is: \", (hits/len(input)) * 100, \"%\")\n",
    "\n",
    "    \n",
    "    \n",
    "def main():\n",
    "    train, test = train_test_split(input, test_size = .2, random_state = 42)    # Splits the data into train and test sets\n",
    "    print('train set size:',len(train),', test set size:',len(test))\n",
    "    \n",
    "    print(\"\\nFor the training set:\\n\")    # Calls the pocketAlgorithm() function for both sets\n",
    "    pocketAlgorithm(train)\n",
    "          \n",
    "    print(\"\\n\\nFor the test set:\\n\")\n",
    "    pocketAlgorithm(test)\n",
    "\n",
    "    \n",
    "    \n",
    "main()    # Calls the main function\n",
    "          \n"
   ]
  },
  {
   "cell_type": "code",
   "execution_count": 48,
   "id": "3cda396c",
   "metadata": {},
   "outputs": [
    {
     "data": {
      "image/png": "[encoded data removed]",
      "text/plain": [
       "<Figure size 432x288 with 1 Axes>"
      ]
     },
     "metadata": {
      "needs_background": "light"
     },
     "output_type": "display_data"
    }
   ],
   "source": [
    "import matplotlib.pyplot as plt\n",
    "\n",
    "fig = plt.figure()\n",
    "ax = fig.add_subplot(1, 1, 1)\n",
    "\n",
    "for i in range(len(input)):\n",
    "    x = input[i][0]\n",
    "    y = input[i][1]\n",
    "    ax.scatter(x, y)\n",
    "plt.show()\n"
   ]
  },
  {
   "cell_type": "code",
   "execution_count": null,
   "id": "1e711861",
   "metadata": {},
   "outputs": [],
   "source": []
  }
 ],
 "metadata": {
  "kernelspec": {
   "display_name": "Python 3 (ipykernel)",
   "language": "python",
   "name": "python3"
  },
  "language_info": {
   "codemirror_mode": {
    "name": "ipython",
    "version": 3
   },
   "file_extension": ".py",
   "mimetype": "text/x-python",
   "name": "python",
   "nbconvert_exporter": "python",
   "pygments_lexer": "ipython3",
   "version": "3.9.7"
  }
 },
 "nbformat": 4,
 "nbformat_minor": 5
}
